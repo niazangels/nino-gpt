{
 "cells": [
  {
   "cell_type": "code",
   "execution_count": 2,
   "id": "ae5f8636-6d49-40eb-b718-e7aee74b79cb",
   "metadata": {},
   "outputs": [
    {
     "name": "stdout",
     "output_type": "stream",
     "text": [
      "--2023-08-29 14:27:42--  https://raw.githubusercontent.com/karpathy/char-rnn/master/data/tinyshakespeare/input.txt\n",
      "Resolving raw.githubusercontent.com (raw.githubusercontent.com)... 185.199.108.133, 185.199.109.133, 185.199.111.133, ...\n",
      "Connecting to raw.githubusercontent.com (raw.githubusercontent.com)|185.199.108.133|:443... connected.\n",
      "HTTP request sent, awaiting response... 200 OK\n",
      "Length: 1115394 (1.1M) [text/plain]\n",
      "Saving to: ‘data/input.txt’\n",
      "\n",
      "data/input.txt      100%[===================>]   1.06M  3.35MB/s    in 0.3s    \n",
      "\n",
      "2023-08-29 14:27:43 (3.35 MB/s) - ‘data/input.txt’ saved [1115394/1115394]\n",
      "\n"
     ]
    }
   ],
   "source": [
    "!wget -O data/input.txt https://raw.githubusercontent.com/karpathy/char-rnn/master/data/tinyshakespeare/input.txt "
   ]
  },
  {
   "cell_type": "code",
   "execution_count": 3,
   "id": "578f7934-12e5-46aa-94b9-93b654660345",
   "metadata": {},
   "outputs": [],
   "source": [
    "with open('data/input.txt') as f:\n",
    "    text = f.read()"
   ]
  },
  {
   "cell_type": "code",
   "execution_count": 4,
   "id": "710ad78a-9a3e-4012-9eed-2f3fbf282aa1",
   "metadata": {},
   "outputs": [
    {
     "data": {
      "text/plain": [
       "('Total characters:', 1115394)"
      ]
     },
     "execution_count": 4,
     "metadata": {},
     "output_type": "execute_result"
    }
   ],
   "source": [
    "\"Total characters:\", len(text)"
   ]
  },
  {
   "cell_type": "code",
   "execution_count": 5,
   "id": "063091db-f011-4831-8f8d-7568563a011a",
   "metadata": {},
   "outputs": [
    {
     "name": "stdout",
     "output_type": "stream",
     "text": [
      "First Citizen:\n",
      "Before we proceed any further, hear me speak.\n",
      "\n",
      "All:\n",
      "Speak, speak.\n",
      "\n",
      "First Citizen:\n",
      "You\n"
     ]
    }
   ],
   "source": [
    "print(text[:100])"
   ]
  },
  {
   "cell_type": "code",
   "execution_count": 6,
   "id": "4a13f5ed-2e2a-450b-bc9c-88d7bad5068b",
   "metadata": {},
   "outputs": [],
   "source": [
    "chars = sorted(list(set(text)))\n",
    "vocab_size = len(chars)"
   ]
  },
  {
   "cell_type": "code",
   "execution_count": 7,
   "id": "0a681f61-97a2-423b-bc09-6fdf4d0fe911",
   "metadata": {},
   "outputs": [
    {
     "data": {
      "text/plain": [
       "65"
      ]
     },
     "execution_count": 7,
     "metadata": {},
     "output_type": "execute_result"
    }
   ],
   "source": [
    "vocab_size"
   ]
  },
  {
   "cell_type": "code",
   "execution_count": 8,
   "id": "9265aca1-afc2-4b1e-b4a4-01f44087de01",
   "metadata": {},
   "outputs": [
    {
     "data": {
      "text/plain": [
       "\"\\n !$&',-.3:;?ABCDEFGHIJKLMNOPQRSTUVWXYZabcdefghijklmnopqrstuvwxyz\""
      ]
     },
     "execution_count": 8,
     "metadata": {},
     "output_type": "execute_result"
    }
   ],
   "source": [
    "\"\".join(chars)"
   ]
  },
  {
   "cell_type": "code",
   "execution_count": 9,
   "id": "278acc58-fbd9-499f-825e-a4ede644b9de",
   "metadata": {},
   "outputs": [
    {
     "name": "stdout",
     "output_type": "stream",
     "text": [
      "Encoded: [46, 47, 1, 58, 46, 43, 56, 43]\n",
      "Decoded: hi there\n"
     ]
    }
   ],
   "source": [
    "stoi = {ch: i for i, ch in enumerate(chars)}\n",
    "itos = {i: ch for i, ch in enumerate(chars)}\n",
    "\n",
    "encode = lambda s: [stoi[x] for x in s]\n",
    "decode = lambda e: \"\".join([itos[x] for x in e])\n",
    "\n",
    "\n",
    "_ = encode(\"hi there\")\n",
    "\n",
    "print(\"Encoded:\", _)\n",
    "print(\"Decoded:\", decode(_))"
   ]
  },
  {
   "cell_type": "markdown",
   "id": "d2c79c83-9784-434c-81ad-2ac3ab2fa07c",
   "metadata": {},
   "source": [
    " "
   ]
  },
  {
   "cell_type": "code",
   "execution_count": 10,
   "id": "0556494c-f31e-444f-95e7-795670a1b743",
   "metadata": {},
   "outputs": [],
   "source": [
    "import torch"
   ]
  },
  {
   "cell_type": "code",
   "execution_count": 13,
   "id": "c5ce333c-4e41-4f2f-a2ec-a243fb98792a",
   "metadata": {},
   "outputs": [
    {
     "data": {
      "text/plain": [
       "torch.int64"
      ]
     },
     "execution_count": 13,
     "metadata": {},
     "output_type": "execute_result"
    }
   ],
   "source": [
    "torch.long"
   ]
  },
  {
   "cell_type": "code",
   "execution_count": 12,
   "id": "0a65f917-f385-4044-aaca-87840043df07",
   "metadata": {},
   "outputs": [
    {
     "name": "stderr",
     "output_type": "stream",
     "text": [
      "/tmp/ipykernel_12022/4070611439.py:1: UserWarning: Failed to initialize NumPy: No module named 'numpy' (Triggered internally at ../torch/csrc/utils/tensor_numpy.cpp:84.)\n",
      "  data = torch.tensor(encode(text), dtype=torch.long)\n"
     ]
    }
   ],
   "source": [
    "data = torch.tensor(encode(text), dtype=torch.long)"
   ]
  },
  {
   "cell_type": "code",
   "execution_count": 14,
   "id": "ed547824-bb85-468c-a877-709d31c63ddd",
   "metadata": {},
   "outputs": [
    {
     "name": "stdout",
     "output_type": "stream",
     "text": [
      "torch.Size([1115394]) torch.int64\n"
     ]
    }
   ],
   "source": [
    "print(data.shape, data.dtype)"
   ]
  },
  {
   "cell_type": "code",
   "execution_count": 15,
   "id": "a90ee27f-3531-4738-80f9-2b18bd47a855",
   "metadata": {},
   "outputs": [
    {
     "data": {
      "text/plain": [
       "tensor([18, 47, 56, 57, 58,  1, 15, 47, 58, 47, 64, 43, 52, 10,  0, 14, 43, 44,\n",
       "        53, 56, 43,  1, 61, 43,  1, 54, 56, 53, 41, 43, 43, 42,  1, 39, 52, 63,\n",
       "         1, 44, 59, 56, 58, 46, 43, 56,  6,  1, 46, 43, 39, 56,  1, 51, 43,  1,\n",
       "        57, 54, 43, 39, 49,  8,  0,  0, 13, 50, 50, 10,  0, 31, 54, 43, 39, 49,\n",
       "         6,  1, 57, 54, 43, 39, 49,  8,  0,  0, 18, 47, 56, 57, 58,  1, 15, 47,\n",
       "        58, 47, 64, 43, 52, 10,  0, 37, 53, 59])"
      ]
     },
     "execution_count": 15,
     "metadata": {},
     "output_type": "execute_result"
    }
   ],
   "source": [
    "data[:100]"
   ]
  },
  {
   "cell_type": "markdown",
   "id": "6a4f765f-bfc0-40ff-9523-315b8b4fccd8",
   "metadata": {},
   "source": [
    "## Train test split"
   ]
  },
  {
   "cell_type": "code",
   "execution_count": 16,
   "id": "cc0f2ea3-ad14-4e67-9a6d-cd6c29ee0d16",
   "metadata": {},
   "outputs": [],
   "source": [
    "n = int(.9 * len(data))\n",
    "train_data = data[:n]\n",
    "val_data = data[n:]"
   ]
  },
  {
   "cell_type": "code",
   "execution_count": 17,
   "id": "c6204087-6d48-4b7d-9887-a8e7a6047eef",
   "metadata": {},
   "outputs": [
    {
     "data": {
      "text/plain": [
       "(1003854, 111540)"
      ]
     },
     "execution_count": 17,
     "metadata": {},
     "output_type": "execute_result"
    }
   ],
   "source": [
    "len(train_data), len(val_data)"
   ]
  },
  {
   "cell_type": "code",
   "execution_count": 18,
   "id": "12e6b054-a80f-4694-a018-c6bcde6525ed",
   "metadata": {},
   "outputs": [
    {
     "data": {
      "text/plain": [
       "tensor([18, 47, 56, 57, 58,  1, 15, 47, 58])"
      ]
     },
     "execution_count": 18,
     "metadata": {},
     "output_type": "execute_result"
    }
   ],
   "source": [
    "block_size = 8\n",
    "train_data[:block_size + 1]"
   ]
  },
  {
   "cell_type": "code",
   "execution_count": 19,
   "id": "0b694a30-bf92-43e5-b848-6222590e79ff",
   "metadata": {},
   "outputs": [
    {
     "name": "stdout",
     "output_type": "stream",
     "text": [
      "when input is tensor([18]) the target is 47\n",
      "when input is tensor([18, 47]) the target is 56\n",
      "when input is tensor([18, 47, 56]) the target is 57\n",
      "when input is tensor([18, 47, 56, 57]) the target is 58\n",
      "when input is tensor([18, 47, 56, 57, 58]) the target is 1\n",
      "when input is tensor([18, 47, 56, 57, 58,  1]) the target is 15\n",
      "when input is tensor([18, 47, 56, 57, 58,  1, 15]) the target is 47\n",
      "when input is tensor([18, 47, 56, 57, 58,  1, 15, 47]) the target is 58\n"
     ]
    }
   ],
   "source": [
    "x = train_data[:block_size]\n",
    "y = train_data[1:block_size+1]\n",
    "\n",
    "for t in range(block_size):\n",
    "    context = x[:t+1]\n",
    "    target = y[t]\n",
    "    print(f\"when input is {context} the target is {target}\")"
   ]
  },
  {
   "cell_type": "markdown",
   "id": "f1b36094-397a-41c0-8d2e-c4e9307d50c0",
   "metadata": {},
   "source": [
    "## Batching"
   ]
  },
  {
   "cell_type": "code",
   "execution_count": 47,
   "id": "6feb9adf-641d-4d89-90e8-ea326c75a2a6",
   "metadata": {},
   "outputs": [],
   "source": [
    "torch.manual_seed(1337)\n",
    "batch_size = 4\n",
    "block_size = 8\n",
    "\n",
    "def get_batch(split):\n",
    "    data = train_data if split=='train' else val_data\n",
    "    ix = torch.randint(len(data) - block_size, (batch_size,))\n",
    "    # print(ix)\n",
    "    x = torch.stack([data[i:i+block_size] for i in ix])\n",
    "    y = torch.stack([data[i+1:i+block_size+1] for i in ix])\n",
    "    return x, y"
   ]
  },
  {
   "cell_type": "code",
   "execution_count": 48,
   "id": "23a8d285-8ef1-4563-ad24-deeb48c312d9",
   "metadata": {},
   "outputs": [],
   "source": [
    "# get_batch('train')"
   ]
  },
  {
   "cell_type": "code",
   "execution_count": 49,
   "id": "b81a44a6-ebd9-41c3-86ba-93f83ef381ad",
   "metadata": {},
   "outputs": [
    {
     "name": "stdout",
     "output_type": "stream",
     "text": [
      "Batch: 0\n",
      "Context: tensor([24]) Target: 43\n",
      "Context: tensor([24, 43]) Target: 58\n",
      "Context: tensor([24, 43, 58]) Target: 5\n",
      "Context: tensor([24, 43, 58,  5]) Target: 57\n",
      "Context: tensor([24, 43, 58,  5, 57]) Target: 1\n",
      "Context: tensor([24, 43, 58,  5, 57,  1]) Target: 46\n",
      "Context: tensor([24, 43, 58,  5, 57,  1, 46]) Target: 43\n",
      "Context: tensor([24, 43, 58,  5, 57,  1, 46, 43]) Target: 39\n",
      "Batch: 1\n",
      "Context: tensor([44]) Target: 53\n",
      "Context: tensor([44, 53]) Target: 56\n",
      "Context: tensor([44, 53, 56]) Target: 1\n",
      "Context: tensor([44, 53, 56,  1]) Target: 58\n",
      "Context: tensor([44, 53, 56,  1, 58]) Target: 46\n",
      "Context: tensor([44, 53, 56,  1, 58, 46]) Target: 39\n",
      "Context: tensor([44, 53, 56,  1, 58, 46, 39]) Target: 58\n",
      "Context: tensor([44, 53, 56,  1, 58, 46, 39, 58]) Target: 1\n",
      "Batch: 2\n",
      "Context: tensor([52]) Target: 58\n",
      "Context: tensor([52, 58]) Target: 1\n",
      "Context: tensor([52, 58,  1]) Target: 58\n",
      "Context: tensor([52, 58,  1, 58]) Target: 46\n",
      "Context: tensor([52, 58,  1, 58, 46]) Target: 39\n",
      "Context: tensor([52, 58,  1, 58, 46, 39]) Target: 58\n",
      "Context: tensor([52, 58,  1, 58, 46, 39, 58]) Target: 1\n",
      "Context: tensor([52, 58,  1, 58, 46, 39, 58,  1]) Target: 46\n",
      "Batch: 3\n",
      "Context: tensor([25]) Target: 17\n",
      "Context: tensor([25, 17]) Target: 27\n",
      "Context: tensor([25, 17, 27]) Target: 10\n",
      "Context: tensor([25, 17, 27, 10]) Target: 0\n",
      "Context: tensor([25, 17, 27, 10,  0]) Target: 21\n",
      "Context: tensor([25, 17, 27, 10,  0, 21]) Target: 1\n",
      "Context: tensor([25, 17, 27, 10,  0, 21,  1]) Target: 54\n",
      "Context: tensor([25, 17, 27, 10,  0, 21,  1, 54]) Target: 39\n"
     ]
    }
   ],
   "source": [
    "xb, yb = get_batch('train')\n",
    "\n",
    "for b in range(batch_size):\n",
    "    print(f\"Batch: {b}\")\n",
    "    for t in range(block_size):\n",
    "        context = xb[b][:t+1]\n",
    "        target = yb[b][t]\n",
    "        print(f\"Context: {context} Target: {target}\")"
   ]
  },
  {
   "cell_type": "code",
   "execution_count": 50,
   "id": "440ffee1-609f-4408-8953-d5b9f6f4f0f7",
   "metadata": {},
   "outputs": [
    {
     "data": {
      "text/plain": [
       "tensor([[24, 43, 58,  5, 57,  1, 46, 43],\n",
       "        [44, 53, 56,  1, 58, 46, 39, 58],\n",
       "        [52, 58,  1, 58, 46, 39, 58,  1],\n",
       "        [25, 17, 27, 10,  0, 21,  1, 54]])"
      ]
     },
     "execution_count": 50,
     "metadata": {},
     "output_type": "execute_result"
    }
   ],
   "source": [
    "xb"
   ]
  },
  {
   "cell_type": "code",
   "execution_count": 67,
   "id": "7688e967-994a-497f-8f44-a7ce9377d9c1",
   "metadata": {},
   "outputs": [],
   "source": [
    "import torch.nn as nn\n",
    "from torch.nn import functional as F\n",
    "\n",
    "torch.manual_seed(1337)\n",
    "\n",
    "\n",
    "class BigramLanguageModel(nn.Module):\n",
    "    def __init__(self, vocab_size): \n",
    "        super().__init__()\n",
    "        self.token_embedding_table = nn.Embedding(vocab_size, vocab_size)\n",
    "\n",
    "    def forward(self, idx, targets=None):\n",
    "        logits = self.token_embedding_table(idx) # (B,T,C)\n",
    "\n",
    "        if targets is None:\n",
    "            loss = None\n",
    "        \n",
    "        else:\n",
    "            B, T, C = logits.shape\n",
    "            logits = logits.view(B*T, C)\n",
    "            targets = targets.view(-1)    \n",
    "            loss = F.cross_entropy(logits, targets)\n",
    "                    \n",
    "        return logits, loss\n",
    "\n",
    "    def generate(self, idx, max_new_tokens):\n",
    "        # idx is (B, T) array of indices in the current context\n",
    "        for  _ in range(max_new_tokens):\n",
    "            logits, loss = self(idx)\n",
    "\n",
    "            # focus only on the last time step\n",
    "            logits = logits[:, -1, :] # becomes (B, C)\n",
    "\n",
    "            probs = F.softmax(logits, dim=-1) # (B, C)\n",
    "            idx_next = torch.multinomial(probs, num_samples=1) # (B,1)\n",
    "            \n",
    "            idx = torch.cat((idx, idx_next), dim=1) # (B, T+1)\n",
    "        return idx"
   ]
  },
  {
   "cell_type": "code",
   "execution_count": 68,
   "id": "b7b2abe3-52dc-4ea3-8667-67a57b40aa9a",
   "metadata": {},
   "outputs": [
    {
     "data": {
      "text/plain": [
       "(torch.Size([32, 65]), torch.Size([]))"
      ]
     },
     "execution_count": 68,
     "metadata": {},
     "output_type": "execute_result"
    }
   ],
   "source": [
    "m = BigramLanguageModel(vocab_size)\n",
    "logits, loss = m(xb, yb)\n",
    "logits.shape, loss.shape"
   ]
  },
  {
   "cell_type": "code",
   "execution_count": 69,
   "id": "fbd326ba-e16c-48df-8490-a29a19fa1afd",
   "metadata": {},
   "outputs": [
    {
     "data": {
      "text/plain": [
       "tensor(4.8786, grad_fn=<NllLossBackward0>)"
      ]
     },
     "execution_count": 69,
     "metadata": {},
     "output_type": "execute_result"
    }
   ],
   "source": [
    "loss"
   ]
  },
  {
   "cell_type": "code",
   "execution_count": 70,
   "id": "9fbe9f78-4c6e-42c2-be68-2c940a801db1",
   "metadata": {},
   "outputs": [
    {
     "data": {
      "text/plain": [
       "tensor([[0]])"
      ]
     },
     "execution_count": 70,
     "metadata": {},
     "output_type": "execute_result"
    }
   ],
   "source": [
    "idx = torch.zeros((1, 1), dtype=torch.long)\n",
    "idx"
   ]
  },
  {
   "cell_type": "code",
   "execution_count": 70,
   "id": "5df0960e-cf00-4db9-8ca7-2d74981bbc2f",
   "metadata": {},
   "outputs": [
    {
     "data": {
      "text/plain": [
       "tensor([[0]])"
      ]
     },
     "execution_count": 70,
     "metadata": {},
     "output_type": "execute_result"
    }
   ],
   "source": [
    "idx = torch.zeros((1, 1), dtype=torch.long)\n",
    "idx"
   ]
  },
  {
   "cell_type": "code",
   "execution_count": 71,
   "id": "c338b290-8da9-4eec-9c51-6c6deeaced8a",
   "metadata": {},
   "outputs": [
    {
     "data": {
      "text/plain": [
       "\"\\nSr?qP-QWktXoL&jLDJgOLVz'RIoDqHdhsV&vLLxatjscMpwLERSPyao.qfzs$Ys$zF-w,;eEkzxjgCKFChs!iWW.ObzDnxA Ms$3\""
      ]
     },
     "execution_count": 71,
     "metadata": {},
     "output_type": "execute_result"
    }
   ],
   "source": [
    "[generated] = m.generate(idx, max_new_tokens=100)\n",
    "decode(generated.tolist())"
   ]
  },
  {
   "cell_type": "markdown",
   "id": "5f47d900-6f2f-4dcb-9fd6-9d0229add8ea",
   "metadata": {},
   "source": [
    "## Optimize"
   ]
  },
  {
   "cell_type": "code",
   "execution_count": 73,
   "id": "d2f6439f-4770-4484-bda8-75f0e6f1f527",
   "metadata": {},
   "outputs": [],
   "source": [
    "optimizer = torch.optim.AdamW(m.parameters(), lr=1e-3)"
   ]
  },
  {
   "cell_type": "code",
   "execution_count": 88,
   "id": "719a6789-15f5-4c24-9d7f-82bdc79a9285",
   "metadata": {},
   "outputs": [
    {
     "name": "stdout",
     "output_type": "stream",
     "text": [
      "2.4988932609558105\n"
     ]
    }
   ],
   "source": [
    "batch_size = 32\n",
    "\n",
    "for steps in range(1000):\n",
    "    xb, yb = get_batch('train')\n",
    "\n",
    "    logits, loss = m(xb, yb)\n",
    "    optimizer.zero_grad(set_to_none=True)\n",
    "    loss.backward()\n",
    "    optimizer.step()\n",
    "\n",
    "print(loss.item())"
   ]
  },
  {
   "cell_type": "code",
   "execution_count": 92,
   "id": "83324e1e-5deb-471f-ae06-d7b02f8fc206",
   "metadata": {},
   "outputs": [
    {
     "name": "stdout",
     "output_type": "stream",
     "text": [
      "\n",
      "y\n",
      "Yeplount;\n",
      "AUKironongan tak t jst, wan, meriongry henowatsthepe ainceleand t, fig:\n",
      "NELLYORComicecarindiss spoubloureroanrsth, wisshr ppprt nd,\n",
      "My t atht ld hathexcoute:\n",
      "ppe\n",
      "\n",
      "LOvere ing beeses, u biue p! nofllealllatho hathe thowil oute lf ur,\n",
      "\n",
      "Insihe wan hin bo tllaighelat at; b n asir cove, tis, tond d mall amid s\n",
      "CUSouss hatou t\n",
      "BRTome,\n",
      "\n",
      "I Yere t t totly ngut angustculexproour whis misorabround.\n",
      "\n",
      "\n",
      "Bul bety\n",
      "Yond sithe, sthigaist tsoss s ss than ke how,\n",
      "mowil ring ISSAUSqur ck d my w wmeart sca\n"
     ]
    }
   ],
   "source": [
    "[generated] = m.generate(idx, max_new_tokens=500)\n",
    "\n",
    "print(\n",
    "    decode(generated.tolist())\n",
    ")"
   ]
  },
  {
   "cell_type": "markdown",
   "id": "0510ab60-0bc6-41c1-88bd-8ac97ebc4d88",
   "metadata": {},
   "source": [
    "## The mathematical trick in self attention"
   ]
  },
  {
   "cell_type": "code",
   "execution_count": 93,
   "id": "033bd6f2-83e8-49fe-bb6c-02b494a17c9b",
   "metadata": {},
   "outputs": [
    {
     "data": {
      "text/plain": [
       "torch.Size([4, 8, 2])"
      ]
     },
     "execution_count": 93,
     "metadata": {},
     "output_type": "execute_result"
    }
   ],
   "source": [
    "torch.manual_seed(1337)\n",
    "B, T, C = 4, 8, 2\n",
    "x = torch.randn(B,T,C)\n",
    "x.shape"
   ]
  },
  {
   "cell_type": "code",
   "execution_count": 101,
   "id": "145d8cae-ba06-4a31-a319-b80b81a43768",
   "metadata": {},
   "outputs": [],
   "source": [
    "xbow = torch.zeros((B,T,C))\n",
    "for b in range(B):\n",
    "    for t in range(T):\n",
    "        xprev = x[b, :t+1] # (t, C)\n",
    "        xbow[b,t] = torch.mean(xprev, 0)"
   ]
  },
  {
   "cell_type": "code",
   "execution_count": 102,
   "id": "a3bf84d6-5f02-4aa3-b13c-90285d2822f3",
   "metadata": {},
   "outputs": [
    {
     "data": {
      "text/plain": [
       "tensor([[ 0.1808, -0.0700],\n",
       "        [-0.3596, -0.9152],\n",
       "        [ 0.6258,  0.0255],\n",
       "        [ 0.9545,  0.0643],\n",
       "        [ 0.3612,  1.1679],\n",
       "        [-1.3499, -0.5102],\n",
       "        [ 0.2360, -0.2398],\n",
       "        [-0.9211,  1.5433]])"
      ]
     },
     "execution_count": 102,
     "metadata": {},
     "output_type": "execute_result"
    }
   ],
   "source": [
    "x[0]"
   ]
  },
  {
   "cell_type": "code",
   "execution_count": 103,
   "id": "d7df9839-2351-4c7f-a815-48e63d3246bb",
   "metadata": {},
   "outputs": [
    {
     "data": {
      "text/plain": [
       "tensor([[ 0.1808, -0.0700],\n",
       "        [-0.0894, -0.4926],\n",
       "        [ 0.1490, -0.3199],\n",
       "        [ 0.3504, -0.2238],\n",
       "        [ 0.3525,  0.0545],\n",
       "        [ 0.0688, -0.0396],\n",
       "        [ 0.0927, -0.0682],\n",
       "        [-0.0341,  0.1332]])"
      ]
     },
     "execution_count": 103,
     "metadata": {},
     "output_type": "execute_result"
    }
   ],
   "source": [
    "xbow[0]"
   ]
  },
  {
   "cell_type": "code",
   "execution_count": 118,
   "id": "1aa0413e-3441-4400-b6f3-e49398beb591",
   "metadata": {},
   "outputs": [],
   "source": [
    "wei = torch.tril(torch.ones(T, T))\n",
    "wei = wei / wei.sum(1, keepdims=True)"
   ]
  },
  {
   "cell_type": "code",
   "execution_count": 119,
   "id": "a7160101-52b2-478c-a1c6-341cbcf48fc3",
   "metadata": {},
   "outputs": [
    {
     "data": {
      "text/plain": [
       "tensor([[1.0000, 0.0000, 0.0000, 0.0000, 0.0000, 0.0000, 0.0000, 0.0000],\n",
       "        [0.5000, 0.5000, 0.0000, 0.0000, 0.0000, 0.0000, 0.0000, 0.0000],\n",
       "        [0.3333, 0.3333, 0.3333, 0.0000, 0.0000, 0.0000, 0.0000, 0.0000],\n",
       "        [0.2500, 0.2500, 0.2500, 0.2500, 0.0000, 0.0000, 0.0000, 0.0000],\n",
       "        [0.2000, 0.2000, 0.2000, 0.2000, 0.2000, 0.0000, 0.0000, 0.0000],\n",
       "        [0.1667, 0.1667, 0.1667, 0.1667, 0.1667, 0.1667, 0.0000, 0.0000],\n",
       "        [0.1429, 0.1429, 0.1429, 0.1429, 0.1429, 0.1429, 0.1429, 0.0000],\n",
       "        [0.1250, 0.1250, 0.1250, 0.1250, 0.1250, 0.1250, 0.1250, 0.1250]])"
      ]
     },
     "execution_count": 119,
     "metadata": {},
     "output_type": "execute_result"
    }
   ],
   "source": [
    "wei"
   ]
  },
  {
   "cell_type": "code",
   "execution_count": 120,
   "id": "e3394228-6cf6-486d-af82-addd33f91f9d",
   "metadata": {},
   "outputs": [
    {
     "data": {
      "text/plain": [
       "True"
      ]
     },
     "execution_count": 120,
     "metadata": {},
     "output_type": "execute_result"
    }
   ],
   "source": [
    "xbow2 = wei @ x # (B,(T,T)) @ (B, T, C) -> (B, T, C)\n",
    "torch.allclose(xbow, xbow2)"
   ]
  },
  {
   "cell_type": "code",
   "execution_count": 121,
   "id": "a6b983c7-1f95-459e-98ce-2cfe8025726e",
   "metadata": {},
   "outputs": [
    {
     "data": {
      "text/plain": [
       "(tensor([[ 0.1808, -0.0700],\n",
       "         [-0.0894, -0.4926],\n",
       "         [ 0.1490, -0.3199],\n",
       "         [ 0.3504, -0.2238],\n",
       "         [ 0.3525,  0.0545],\n",
       "         [ 0.0688, -0.0396],\n",
       "         [ 0.0927, -0.0682],\n",
       "         [-0.0341,  0.1332]]),\n",
       " tensor([[ 0.1808, -0.0700],\n",
       "         [-0.0894, -0.4926],\n",
       "         [ 0.1490, -0.3199],\n",
       "         [ 0.3504, -0.2238],\n",
       "         [ 0.3525,  0.0545],\n",
       "         [ 0.0688, -0.0396],\n",
       "         [ 0.0927, -0.0682],\n",
       "         [-0.0341,  0.1332]]))"
      ]
     },
     "execution_count": 121,
     "metadata": {},
     "output_type": "execute_result"
    }
   ],
   "source": [
    "xbow[0], xbow2[0]"
   ]
  },
  {
   "cell_type": "code",
   "execution_count": 123,
   "id": "e7be7db5-515f-495a-8572-c63aaa38a92b",
   "metadata": {},
   "outputs": [
    {
     "data": {
      "text/plain": [
       "True"
      ]
     },
     "execution_count": 123,
     "metadata": {},
     "output_type": "execute_result"
    }
   ],
   "source": [
    "tril = torch.tril(torch.ones(T, T))\n",
    "wei = torch.zeros((T,T))\n",
    "wei = wei.masked_fill(tril==0, float('-inf'))\n",
    "wei = F.softmax(wei, dim=-1)\n",
    "xbow3 = wei @ x\n",
    "torch.allclose(xbow, xbow3)"
   ]
  },
  {
   "cell_type": "markdown",
   "id": "6523630a-9fea-4995-b1a8-1fec23fac8cc",
   "metadata": {},
   "source": [
    "### Version 4: Self attention"
   ]
  },
  {
   "cell_type": "code",
   "execution_count": 130,
   "id": "96d023e4-e191-4f1a-9f5f-f74044563a21",
   "metadata": {},
   "outputs": [
    {
     "data": {
      "text/plain": [
       "torch.Size([4, 8, 16])"
      ]
     },
     "execution_count": 130,
     "metadata": {},
     "output_type": "execute_result"
    }
   ],
   "source": [
    "torch.manual_seed(1337)\n",
    "B, T, C = 4, 8, 32\n",
    "x = torch.randn(B, T, C)\n",
    "\n",
    "# Single attention head\n",
    "head_size = 16\n",
    "\n",
    "key = nn.Linear(C, head_size, bias=False)\n",
    "query = nn.Linear(C, head_size, bias=False)\n",
    "value = nn.Linear(C, head_size, bias=False)\n",
    "\n",
    "\n",
    "k = key(x)   # (B, T, head_size)\n",
    "q = query(x) # (B, T, head_size)\n",
    "v = value(x)\n",
    "\n",
    "wei = q @ k.transpose(-2, -1) * (head_size ** -.5) # (B, T, head_size) @ (B, head_size, T) -> (B, T, T)\n",
    "\n",
    "tril = torch.tril(torch.ones(T, T))\n",
    "# wei = torch.zeros((T,T))\n",
    "wei = wei.masked_fill(tril == 0, float('-inf'))\n",
    "wei = F.softmax(wei, dim=-1)\n",
    "out = wei@v # (B, T, T) @ (B, T, head_size) -> (B, T, head_size)\n",
    "\n",
    "out.shape"
   ]
  },
  {
   "cell_type": "code",
   "execution_count": 138,
   "id": "4214d198-9f64-421c-9d28-df9b4ee495df",
   "metadata": {},
   "outputs": [
    {
     "name": "stdout",
     "output_type": "stream",
     "text": [
      "tensor([ 0.7153, -0.1060,  0.5602, -0.0738,  0.9711])\n",
      "tensor([0.2474, 0.1088, 0.2119, 0.1124, 0.3195])\n",
      "tensor([1.6387e-02, 3.2160e-08, 1.3700e-03, 5.3898e-08, 9.8224e-01])\n"
     ]
    }
   ],
   "source": [
    "_ = torch.randn(5)\n",
    "print(_)\n",
    "print(F.softmax(_, dim=-1))\n",
    "print(F.softmax(_*16, dim=-1))"
   ]
  },
  {
   "cell_type": "code",
   "execution_count": null,
   "id": "9ff5b826-b604-458a-998d-bef08bd0528e",
   "metadata": {},
   "outputs": [],
   "source": []
  }
 ],
 "metadata": {
  "kernelspec": {
   "display_name": "Python 3 (ipykernel)",
   "language": "python",
   "name": "python3"
  },
  "language_info": {
   "codemirror_mode": {
    "name": "ipython",
    "version": 3
   },
   "file_extension": ".py",
   "mimetype": "text/x-python",
   "name": "python",
   "nbconvert_exporter": "python",
   "pygments_lexer": "ipython3",
   "version": "3.11.2"
  }
 },
 "nbformat": 4,
 "nbformat_minor": 5
}
